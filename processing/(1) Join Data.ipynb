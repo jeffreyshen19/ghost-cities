{
 "cells": [
  {
   "cell_type": "code",
   "execution_count": 1,
   "metadata": {},
   "outputs": [],
   "source": [
    "import geopandas as gpd\n",
    "import pandas as pd"
   ]
  },
  {
   "cell_type": "code",
   "execution_count": 2,
   "metadata": {},
   "outputs": [],
   "source": [
    "counties_shp = gpd.read_file(\"data/1_raw/counties_2020/tl_2020_us_county.shp\")\n",
    "counties_csv = pd.read_csv(\"data/1_raw/counties.csv\")"
   ]
  },
  {
   "cell_type": "code",
   "execution_count": 15,
   "metadata": {},
   "outputs": [],
   "source": [
    "def join_data(shp, csv, left_on, right_on): \n",
    "    shp = shp.astype({key: 'int32' for key in left_on})\n",
    "    merged = pd.merge(shp, csv, left_on=left_on, right_on=right_on, how=\"outer\").fillna(0)\n",
    "    return merged\n",
    "\n",
    "def get_cols(merged, cols=[\"H1_001N\", \"H1_003N\", \"geometry\"]):\n",
    "    merged = merged[cols]\n",
    "#     merged = merged.rename(columns={\"H1_001N\": \"total_units\", \"H1_003N\": \"vacant_units\"})\n",
    "    merged[\"percent_vacant\"] = 100.0 * merged[\"vacant_units\"] / merged[\"total_units\"]\n",
    "    return merged"
   ]
  },
  {
   "cell_type": "code",
   "execution_count": 13,
   "metadata": {},
   "outputs": [],
   "source": [
    "joined = get_cols(join_data(counties_shp, counties_csv, [\"STATEFP\",\"COUNTYFP\"], [\"state\",\"county\"]))\n",
    "joined.to_file(\"data/2_joined/counties/counties.shp\")"
   ]
  },
  {
   "cell_type": "code",
   "execution_count": 14,
   "metadata": {},
   "outputs": [],
   "source": [
    "def read_data(f):\n",
    "    shp = gpd.read_file(\"data/1_raw/\" + f + \"_2020/\" + f + \"_2020.shp\")\n",
    "    csv = pd.read_csv(\"data/1_raw/\" + f + \".csv\")\n",
    "    \n",
    "    return shp, csv"
   ]
  },
  {
   "cell_type": "code",
   "execution_count": 16,
   "metadata": {},
   "outputs": [],
   "source": [
    "tracts_shp, tracts_csv = read_data(\"tracts\")\n",
    "tracts_joined = join_data(tracts_shp, tracts_csv, [\"STATEFP\", \"COUNTYFP\", \"TRACTCE\"], [\"state\", \"county\", \"tract\"])\n",
    "get_cols(tracts_joined).to_file(\"data/2_joined/tracts/tracts.shp\")"
   ]
  },
  {
   "cell_type": "code",
   "execution_count": 17,
   "metadata": {},
   "outputs": [],
   "source": [
    "bgs_shp, bgs_csv = read_data(\"bgs\")\n",
    "bgs_joined = join_data(bgs_shp, bgs_csv, [\"STATEFP\", \"COUNTYFP\", \"TRACTCE\", \"BLKGRPCE\"], [\"state\", \"county\", \"tract\", \"block group\"])\n",
    "get_cols(bgs_joined, cols=[\"total_units\", \"vacant_units\", \"geometry\"]).to_file(\"data/2_joined/bgs/bgs.shp\")\n",
    "\n"
   ]
  },
  {
   "cell_type": "code",
   "execution_count": 72,
   "metadata": {},
   "outputs": [],
   "source": []
  },
  {
   "cell_type": "code",
   "execution_count": null,
   "metadata": {},
   "outputs": [],
   "source": []
  }
 ],
 "metadata": {
  "kernelspec": {
   "display_name": "Python 3",
   "language": "python",
   "name": "python3"
  },
  "language_info": {
   "codemirror_mode": {
    "name": "ipython",
    "version": 3
   },
   "file_extension": ".py",
   "mimetype": "text/x-python",
   "name": "python",
   "nbconvert_exporter": "python",
   "pygments_lexer": "ipython3",
   "version": "3.7.4"
  }
 },
 "nbformat": 4,
 "nbformat_minor": 4
}
