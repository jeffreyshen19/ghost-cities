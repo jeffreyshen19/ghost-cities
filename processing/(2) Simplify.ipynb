{
 "cells": [
  {
   "cell_type": "code",
   "execution_count": 1,
   "metadata": {},
   "outputs": [],
   "source": [
    "import geopandas as gpd\n",
    "import pandas as pd"
   ]
  },
  {
   "cell_type": "code",
   "execution_count": 2,
   "metadata": {},
   "outputs": [],
   "source": [
    "directory = \"data/2_joined\"\n",
    "folders = [\"counties\", \"tracts\", \"bgs\"]"
   ]
  },
  {
   "cell_type": "code",
   "execution_count": 5,
   "metadata": {},
   "outputs": [
    {
     "name": "stdout",
     "output_type": "stream",
     "text": [
      "counties\n",
      "tracts\n",
      "bgs\n"
     ]
    }
   ],
   "source": [
    "for folder in folders: \n",
    "    print(folder)\n",
    "    shp = gpd.read_file(directory + \"/\" + folder + \"/\" + folder + \".shp\")\n",
    "    shp[\"geometry\"] = shp[\"geometry\"].simplify(0.0001)\n",
    "    shp.to_file(\"data/3_simplified/\" + folder + \".geojson\", driver='GeoJSON')"
   ]
  },
  {
   "cell_type": "code",
   "execution_count": 6,
   "metadata": {},
   "outputs": [
    {
     "name": "stdout",
     "output_type": "stream",
     "text": [
      "Key map:\n",
      "{\n",
      "  \"t\": \"total_unit\",\n",
      "  \"v\": \"vacant_uni\",\n",
      "  \"n\": \"NAME\",\n",
      "  \"p\": \"percent_va\"\n",
      "}\n",
      "Key map:\n",
      "{\n",
      "  \"t\": \"total_unit\",\n",
      "  \"v\": \"vacant_uni\",\n",
      "  \"p\": \"percent_va\"\n",
      "}\n",
      "Key map:\n",
      "{\n",
      "  \"t\": \"total_unit\",\n",
      "  \"v\": \"vacant_uni\",\n",
      "  \"p\": \"percent_va\"\n",
      "}\n"
     ]
    }
   ],
   "source": [
    "!minify-geojson -b GEOID_x -c 4 -k data/3_simplified/counties.geojson \n",
    "!minify-geojson -b GEOID_x -c 4 -k data/3_simplified/tracts.geojson \n",
    "!minify-geojson -b GEOID_x -c 4 -k data/3_simplified/bgs.geojson "
   ]
  },
  {
   "cell_type": "code",
   "execution_count": null,
   "metadata": {},
   "outputs": [],
   "source": []
  }
 ],
 "metadata": {
  "kernelspec": {
   "display_name": "Python 3",
   "language": "python",
   "name": "python3"
  },
  "language_info": {
   "codemirror_mode": {
    "name": "ipython",
    "version": 3
   },
   "file_extension": ".py",
   "mimetype": "text/x-python",
   "name": "python",
   "nbconvert_exporter": "python",
   "pygments_lexer": "ipython3",
   "version": "3.7.4"
  }
 },
 "nbformat": 4,
 "nbformat_minor": 4
}
