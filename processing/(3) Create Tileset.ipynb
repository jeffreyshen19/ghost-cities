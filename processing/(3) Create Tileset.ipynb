{
 "cells": [
  {
   "cell_type": "code",
   "execution_count": 2,
   "metadata": {},
   "outputs": [
    {
     "name": "stdout",
     "output_type": "stream",
     "text": [
      "For layer 0, using name \"tractsmin\"\n",
      "85528 features, 25430807 bytes of geometry, 2317 bytes of separate metadata, 1312093 bytes of string pool\n",
      "tile 4/3/6 size is 601267 with detail 12, >500000    \n",
      "tile 4/4/6 size is 1028378 with detail 12, >500000    \n",
      "tile 4/4/6 size is 723101 with detail 11, >500000    \n",
      "tile 5/8/12 size is 748336 with detail 12, >500000    \n",
      "tile 5/8/12 size is 568570 with detail 11, >500000    \n",
      "  99.9%  9/84/197   \n",
      "For layer 0, using name \"bgsmin\"\n",
      "242747 features, 62472677 bytes of geometry, 820002 bytes of separate metadata, 1245274 bytes of string pool\n",
      "  99.9%  14/3405/6539  \n"
     ]
    }
   ],
   "source": [
    "# !tippecanoe -o data/4_tiles/counties.mbtiles -Z 0 -z 3 data/3_simplified/counties.min.geojson\n",
    "!tippecanoe -o data/4_tiles/tracts.mbtiles -Z 4 -z 9 data/3_simplified/tracts.min.geojson\n",
    "!tippecanoe -o data/4_tiles/bgs.mbtiles -Z 10 -z 14 data/3_simplified/bgs.min.geojson\n"
   ]
  },
  {
   "cell_type": "code",
   "execution_count": 5,
   "metadata": {},
   "outputs": [
    {
     "name": "stdout",
     "output_type": "stream",
     "text": [
      "Warning: mismatched maxzooms: 9 in data/4_tiles/tracts.mbtiles vs previous 3\n",
      "Warning: mismatched maxzooms: 14 in data/4_tiles/bgs.mbtiles vs previous 9\n"
     ]
    }
   ],
   "source": [
    "!tile-join -o data/4_tiles/output_combined.mbtiles data/4_tiles/counties.mbtiles data/4_tiles/tracts.mbtiles data/4_tiles/bgs.mbtiles"
   ]
  },
  {
   "cell_type": "code",
   "execution_count": null,
   "metadata": {},
   "outputs": [],
   "source": []
  }
 ],
 "metadata": {
  "kernelspec": {
   "display_name": "Python 3",
   "language": "python",
   "name": "python3"
  },
  "language_info": {
   "codemirror_mode": {
    "name": "ipython",
    "version": 3
   },
   "file_extension": ".py",
   "mimetype": "text/x-python",
   "name": "python",
   "nbconvert_exporter": "python",
   "pygments_lexer": "ipython3",
   "version": "3.7.4"
  }
 },
 "nbformat": 4,
 "nbformat_minor": 4
}
